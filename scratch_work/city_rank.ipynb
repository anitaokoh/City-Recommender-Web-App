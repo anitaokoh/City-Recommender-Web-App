{
 "cells": [
  {
   "cell_type": "code",
   "execution_count": 22,
   "metadata": {},
   "outputs": [],
   "source": [
    "import pandas as pd\n",
    "import numpy as np\n",
    "from sklearn.metrics.pairwise import cosine_similarity\n",
    "np.random.seed(42)"
   ]
  },
  {
   "cell_type": "code",
   "execution_count": 23,
   "metadata": {},
   "outputs": [
    {
     "name": "stdout",
     "output_type": "stream",
     "text": [
      "Empty DataFrame\n",
      "Columns: [(Rank, Rank), (Location, City), (Location, Country), (Business Ecosystem, Unnamed: 3_level_1), (Business Ecosystem, Unnamed: 4_level_1), (Business Ecosystem, Unnamed: 5_level_1), (The Essentials, Unnamed: 6_level_1), (The Essentials, Unnamed: 7_level_1), (The Essentials, Unnamed: 8_level_1), (The Essentials, Unnamed: 9_level_1), (The Essentials, Unnamed: 10_level_1), (The Essentials, Unnamed: 11_level_1), (The Essentials, Unnamed: 12_level_1), (Openness, Unnamed: 13_level_1), (Openness, Unnamed: 14_level_1), (Openness, Unnamed: 15_level_1), (Openness, Unnamed: 16_level_1), (Recreation, Unnamed: 17_level_1), (Recreation, Unnamed: 18_level_1), (Recreation, Unnamed: 19_level_1), (Total, Total)]\n",
      "Index: []\n",
      "\n",
      "[0 rows x 21 columns]\n"
     ]
    },
    {
     "data": {
      "text/html": [
       "<div>\n",
       "<style scoped>\n",
       "    .dataframe tbody tr th:only-of-type {\n",
       "        vertical-align: middle;\n",
       "    }\n",
       "\n",
       "    .dataframe tbody tr th {\n",
       "        vertical-align: top;\n",
       "    }\n",
       "\n",
       "    .dataframe thead th {\n",
       "        text-align: right;\n",
       "    }\n",
       "</style>\n",
       "<table border=\"1\" class=\"dataframe\">\n",
       "  <thead>\n",
       "    <tr style=\"text-align: right;\">\n",
       "      <th></th>\n",
       "      <th>City</th>\n",
       "      <th>Country</th>\n",
       "      <th>Employment Score</th>\n",
       "      <th>Startup Score</th>\n",
       "      <th>Tourism Score</th>\n",
       "      <th>Housing Score</th>\n",
       "      <th>Food Ranking</th>\n",
       "      <th>Transport Score</th>\n",
       "      <th>Health Rank</th>\n",
       "      <th>Internet Speed Score</th>\n",
       "      <th>University Score</th>\n",
       "      <th>Access to Contraceptive Score</th>\n",
       "      <th>Gender Equality Score</th>\n",
       "      <th>Immigration Tolerence</th>\n",
       "      <th>Personal Freedom and Choice</th>\n",
       "      <th>LGBT friendly Score</th>\n",
       "      <th>Nightlife Score</th>\n",
       "      <th>Beer Ranking</th>\n",
       "      <th>Festival Ranking</th>\n",
       "      <th>Total</th>\n",
       "    </tr>\n",
       "  </thead>\n",
       "  <tbody>\n",
       "  </tbody>\n",
       "</table>\n",
       "</div>"
      ],
      "text/plain": [
       "Empty DataFrame\n",
       "Columns: [City, Country, Employment Score, Startup Score, Tourism Score, Housing Score, Food Ranking, Transport Score, Health Rank, Internet Speed Score, University Score, Access to Contraceptive Score, Gender Equality Score, Immigration Tolerence, Personal Freedom and Choice, LGBT friendly Score, Nightlife Score, Beer Ranking, Festival Ranking, Total]\n",
       "Index: []"
      ]
     },
     "execution_count": 23,
     "metadata": {},
     "output_type": "execute_result"
    }
   ],
   "source": [
    "df = pd.read_html('https://www.nestpick.com/millennial-city-ranking-2018/', skiprows=0)[0]\n",
    "df.columns = ['#','City', 'Country','Employment Score', 'Startup Score', 'Tourism Score','Housing Score', 'Food Ranking', 'Transport Score', 'Health Rank', 'Internet Speed Score', 'University Score', 'Access to Contraceptive Score', 'Gender Equality Score', 'Immigration Tolerence', 'Personal Freedom and Choice', 'LGBT friendly Score', 'Nightlife Score', 'Beer Ranking', 'Festival Ranking', 'Total']\n",
    "# df.set_index('city',inplace=True)\n",
    "df.drop('#',axis=1, inplace=True)\n",
    "# df.index.name= None\n",
    "df.head()"
   ]
  },
  {
   "cell_type": "code",
   "execution_count": 24,
   "metadata": {},
   "outputs": [],
   "source": [
    "df.to_csv('city_ranking.csv', index=False)"
   ]
  },
  {
   "cell_type": "code",
   "execution_count": 25,
   "metadata": {},
   "outputs": [
    {
     "data": {
      "text/html": [
       "<div>\n",
       "<style scoped>\n",
       "    .dataframe tbody tr th:only-of-type {\n",
       "        vertical-align: middle;\n",
       "    }\n",
       "\n",
       "    .dataframe tbody tr th {\n",
       "        vertical-align: top;\n",
       "    }\n",
       "\n",
       "    .dataframe thead th {\n",
       "        text-align: right;\n",
       "    }\n",
       "</style>\n",
       "<table border=\"1\" class=\"dataframe\">\n",
       "  <thead>\n",
       "    <tr style=\"text-align: right;\">\n",
       "      <th></th>\n",
       "      <th>Employment Score</th>\n",
       "      <th>Startup Score</th>\n",
       "      <th>Tourism Score</th>\n",
       "      <th>Housing Score</th>\n",
       "      <th>Food Ranking</th>\n",
       "      <th>Transport Score</th>\n",
       "      <th>Health Rank</th>\n",
       "      <th>Internet Speed Score</th>\n",
       "      <th>University Score</th>\n",
       "      <th>Access to Contraceptive Score</th>\n",
       "      <th>Gender Equality Score</th>\n",
       "      <th>Immigration Tolerence</th>\n",
       "      <th>Personal Freedom and Choice</th>\n",
       "      <th>LGBT friendly Score</th>\n",
       "      <th>Nightlife Score</th>\n",
       "      <th>Beer Ranking</th>\n",
       "      <th>Festival Ranking</th>\n",
       "    </tr>\n",
       "    <tr>\n",
       "      <th>City</th>\n",
       "      <th></th>\n",
       "      <th></th>\n",
       "      <th></th>\n",
       "      <th></th>\n",
       "      <th></th>\n",
       "      <th></th>\n",
       "      <th></th>\n",
       "      <th></th>\n",
       "      <th></th>\n",
       "      <th></th>\n",
       "      <th></th>\n",
       "      <th></th>\n",
       "      <th></th>\n",
       "      <th></th>\n",
       "      <th></th>\n",
       "      <th></th>\n",
       "      <th></th>\n",
       "    </tr>\n",
       "  </thead>\n",
       "  <tbody>\n",
       "  </tbody>\n",
       "</table>\n",
       "</div>"
      ],
      "text/plain": [
       "Empty DataFrame\n",
       "Columns: [Employment Score, Startup Score, Tourism Score, Housing Score, Food Ranking, Transport Score, Health Rank, Internet Speed Score, University Score, Access to Contraceptive Score, Gender Equality Score, Immigration Tolerence, Personal Freedom and Choice, LGBT friendly Score, Nightlife Score, Beer Ranking, Festival Ranking]\n",
       "Index: []"
      ]
     },
     "execution_count": 25,
     "metadata": {},
     "output_type": "execute_result"
    }
   ],
   "source": [
    "data = df.set_index('City'). iloc[:,1:-1]\n",
    "data.head()\n"
   ]
  },
  {
   "cell_type": "code",
   "execution_count": 26,
   "metadata": {},
   "outputs": [
    {
     "data": {
      "text/html": [
       "<div>\n",
       "<style scoped>\n",
       "    .dataframe tbody tr th:only-of-type {\n",
       "        vertical-align: middle;\n",
       "    }\n",
       "\n",
       "    .dataframe tbody tr th {\n",
       "        vertical-align: top;\n",
       "    }\n",
       "\n",
       "    .dataframe thead th {\n",
       "        text-align: right;\n",
       "    }\n",
       "</style>\n",
       "<table border=\"1\" class=\"dataframe\">\n",
       "  <thead>\n",
       "    <tr style=\"text-align: right;\">\n",
       "      <th></th>\n",
       "      <th>Employment Score</th>\n",
       "      <th>Startup Score</th>\n",
       "      <th>Tourism Score</th>\n",
       "      <th>Housing Score</th>\n",
       "      <th>Food Ranking</th>\n",
       "      <th>Transport Score</th>\n",
       "      <th>Health Rank</th>\n",
       "      <th>Internet Speed Score</th>\n",
       "      <th>University Score</th>\n",
       "      <th>Access to Contraceptive Score</th>\n",
       "      <th>Gender Equality Score</th>\n",
       "      <th>Immigration Tolerence</th>\n",
       "      <th>Personal Freedom and Choice</th>\n",
       "      <th>LGBT friendly Score</th>\n",
       "      <th>Nightlife Score</th>\n",
       "      <th>Beer Ranking</th>\n",
       "      <th>Festival Ranking</th>\n",
       "    </tr>\n",
       "    <tr>\n",
       "      <th>City</th>\n",
       "      <th></th>\n",
       "      <th></th>\n",
       "      <th></th>\n",
       "      <th></th>\n",
       "      <th></th>\n",
       "      <th></th>\n",
       "      <th></th>\n",
       "      <th></th>\n",
       "      <th></th>\n",
       "      <th></th>\n",
       "      <th></th>\n",
       "      <th></th>\n",
       "      <th></th>\n",
       "      <th></th>\n",
       "      <th></th>\n",
       "      <th></th>\n",
       "      <th></th>\n",
       "    </tr>\n",
       "  </thead>\n",
       "  <tbody>\n",
       "  </tbody>\n",
       "</table>\n",
       "</div>"
      ],
      "text/plain": [
       "Empty DataFrame\n",
       "Columns: [Employment Score, Startup Score, Tourism Score, Housing Score, Food Ranking, Transport Score, Health Rank, Internet Speed Score, University Score, Access to Contraceptive Score, Gender Equality Score, Immigration Tolerence, Personal Freedom and Choice, LGBT friendly Score, Nightlife Score, Beer Ranking, Festival Ranking]\n",
       "Index: []"
      ]
     },
     "execution_count": 26,
     "metadata": {},
     "output_type": "execute_result"
    }
   ],
   "source": [
    "scores = df.set_index('City'). iloc[:,1:-1].round().astype(int)\n",
    "scores.head()"
   ]
  },
  {
   "cell_type": "code",
   "execution_count": 27,
   "metadata": {},
   "outputs": [
    {
     "ename": "ValueError",
     "evalue": "Found array with 0 sample(s) (shape=(0, 17)) while a minimum of 1 is required by check_pairwise_arrays.",
     "output_type": "error",
     "traceback": [
      "\u001b[1;31m---------------------------------------------------------------------------\u001b[0m",
      "\u001b[1;31mValueError\u001b[0m                                Traceback (most recent call last)",
      "\u001b[1;32m~\\AppData\\Local\\Temp/ipykernel_14724/874151745.py\u001b[0m in \u001b[0;36m<module>\u001b[1;34m\u001b[0m\n\u001b[1;32m----> 1\u001b[1;33m \u001b[0mcos\u001b[0m \u001b[1;33m=\u001b[0m \u001b[0mpd\u001b[0m\u001b[1;33m.\u001b[0m\u001b[0mDataFrame\u001b[0m\u001b[1;33m(\u001b[0m\u001b[0mcosine_similarity\u001b[0m\u001b[1;33m(\u001b[0m\u001b[0mscores\u001b[0m\u001b[1;33m)\u001b[0m\u001b[1;33m,\u001b[0m \u001b[0mcolumns\u001b[0m\u001b[1;33m=\u001b[0m\u001b[0mscores\u001b[0m\u001b[1;33m.\u001b[0m\u001b[0mindex\u001b[0m\u001b[1;33m,\u001b[0m \u001b[0mindex\u001b[0m \u001b[1;33m=\u001b[0m \u001b[0mscores\u001b[0m\u001b[1;33m.\u001b[0m\u001b[0mindex\u001b[0m\u001b[1;33m)\u001b[0m\u001b[1;33m\u001b[0m\u001b[1;33m\u001b[0m\u001b[0m\n\u001b[0m\u001b[0;32m      2\u001b[0m \u001b[0mcos\u001b[0m\u001b[1;33m\u001b[0m\u001b[1;33m\u001b[0m\u001b[0m\n",
      "\u001b[1;32mc:\\Users\\Josefin\\TNM108\\TNM108\\lib\\site-packages\\sklearn\\metrics\\pairwise.py\u001b[0m in \u001b[0;36mcosine_similarity\u001b[1;34m(X, Y, dense_output)\u001b[0m\n\u001b[0;32m   1244\u001b[0m     \u001b[1;31m# to avoid recursive import\u001b[0m\u001b[1;33m\u001b[0m\u001b[1;33m\u001b[0m\u001b[0m\n\u001b[0;32m   1245\u001b[0m \u001b[1;33m\u001b[0m\u001b[0m\n\u001b[1;32m-> 1246\u001b[1;33m     \u001b[0mX\u001b[0m\u001b[1;33m,\u001b[0m \u001b[0mY\u001b[0m \u001b[1;33m=\u001b[0m \u001b[0mcheck_pairwise_arrays\u001b[0m\u001b[1;33m(\u001b[0m\u001b[0mX\u001b[0m\u001b[1;33m,\u001b[0m \u001b[0mY\u001b[0m\u001b[1;33m)\u001b[0m\u001b[1;33m\u001b[0m\u001b[1;33m\u001b[0m\u001b[0m\n\u001b[0m\u001b[0;32m   1247\u001b[0m \u001b[1;33m\u001b[0m\u001b[0m\n\u001b[0;32m   1248\u001b[0m     \u001b[0mX_normalized\u001b[0m \u001b[1;33m=\u001b[0m \u001b[0mnormalize\u001b[0m\u001b[1;33m(\u001b[0m\u001b[0mX\u001b[0m\u001b[1;33m,\u001b[0m \u001b[0mcopy\u001b[0m\u001b[1;33m=\u001b[0m\u001b[1;32mTrue\u001b[0m\u001b[1;33m)\u001b[0m\u001b[1;33m\u001b[0m\u001b[1;33m\u001b[0m\u001b[0m\n",
      "\u001b[1;32mc:\\Users\\Josefin\\TNM108\\TNM108\\lib\\site-packages\\sklearn\\metrics\\pairwise.py\u001b[0m in \u001b[0;36mcheck_pairwise_arrays\u001b[1;34m(X, Y, precomputed, dtype, accept_sparse, force_all_finite, copy)\u001b[0m\n\u001b[0;32m    145\u001b[0m \u001b[1;33m\u001b[0m\u001b[0m\n\u001b[0;32m    146\u001b[0m     \u001b[1;32mif\u001b[0m \u001b[0mY\u001b[0m \u001b[1;32mis\u001b[0m \u001b[0mX\u001b[0m \u001b[1;32mor\u001b[0m \u001b[0mY\u001b[0m \u001b[1;32mis\u001b[0m \u001b[1;32mNone\u001b[0m\u001b[1;33m:\u001b[0m\u001b[1;33m\u001b[0m\u001b[1;33m\u001b[0m\u001b[0m\n\u001b[1;32m--> 147\u001b[1;33m         X = Y = check_array(\n\u001b[0m\u001b[0;32m    148\u001b[0m             \u001b[0mX\u001b[0m\u001b[1;33m,\u001b[0m\u001b[1;33m\u001b[0m\u001b[1;33m\u001b[0m\u001b[0m\n\u001b[0;32m    149\u001b[0m             \u001b[0maccept_sparse\u001b[0m\u001b[1;33m=\u001b[0m\u001b[0maccept_sparse\u001b[0m\u001b[1;33m,\u001b[0m\u001b[1;33m\u001b[0m\u001b[1;33m\u001b[0m\u001b[0m\n",
      "\u001b[1;32mc:\\Users\\Josefin\\TNM108\\TNM108\\lib\\site-packages\\sklearn\\utils\\validation.py\u001b[0m in \u001b[0;36mcheck_array\u001b[1;34m(array, accept_sparse, accept_large_sparse, dtype, order, copy, force_all_finite, ensure_2d, allow_nd, ensure_min_samples, ensure_min_features, estimator)\u001b[0m\n\u001b[0;32m    795\u001b[0m         \u001b[0mn_samples\u001b[0m \u001b[1;33m=\u001b[0m \u001b[0m_num_samples\u001b[0m\u001b[1;33m(\u001b[0m\u001b[0marray\u001b[0m\u001b[1;33m)\u001b[0m\u001b[1;33m\u001b[0m\u001b[1;33m\u001b[0m\u001b[0m\n\u001b[0;32m    796\u001b[0m         \u001b[1;32mif\u001b[0m \u001b[0mn_samples\u001b[0m \u001b[1;33m<\u001b[0m \u001b[0mensure_min_samples\u001b[0m\u001b[1;33m:\u001b[0m\u001b[1;33m\u001b[0m\u001b[1;33m\u001b[0m\u001b[0m\n\u001b[1;32m--> 797\u001b[1;33m             raise ValueError(\n\u001b[0m\u001b[0;32m    798\u001b[0m                 \u001b[1;34m\"Found array with %d sample(s) (shape=%s) while a\"\u001b[0m\u001b[1;33m\u001b[0m\u001b[1;33m\u001b[0m\u001b[0m\n\u001b[0;32m    799\u001b[0m                 \u001b[1;34m\" minimum of %d is required%s.\"\u001b[0m\u001b[1;33m\u001b[0m\u001b[1;33m\u001b[0m\u001b[0m\n",
      "\u001b[1;31mValueError\u001b[0m: Found array with 0 sample(s) (shape=(0, 17)) while a minimum of 1 is required by check_pairwise_arrays."
     ]
    }
   ],
   "source": [
    "cos = pd.DataFrame(cosine_similarity(scores), columns=scores.index, index = scores.index)\n",
    "cos"
   ]
  },
  {
   "cell_type": "code",
   "execution_count": null,
   "metadata": {},
   "outputs": [
    {
     "data": {
      "text/plain": [
       "Index(['Berlin', 'Montréal', 'London', 'Amsterdam', 'Toronto', 'Vancouver',\n",
       "       'Barcelona', 'New York City', 'Cologne', 'Manchester',\n",
       "       ...\n",
       "       'Milan', 'Venice', 'Bergen', 'Cape Town', 'Innsbruck', 'Bern',\n",
       "       'Jerusalem', 'Brugge', 'Geneva', 'Bologna'],\n",
       "      dtype='object', name='city', length=110)"
      ]
     },
     "execution_count": 7,
     "metadata": {},
     "output_type": "execute_result"
    }
   ],
   "source": [
    "scores.index"
   ]
  },
  {
   "cell_type": "code",
   "execution_count": null,
   "metadata": {},
   "outputs": [
    {
     "data": {
      "text/plain": [
       "array([[ 7,  4,  8,  5,  7, 10,  3,  7,  8,  5,  4,  8,  8,  3,  6,  5,\n",
       "         2]])"
      ]
     },
     "execution_count": 8,
     "metadata": {},
     "output_type": "execute_result"
    }
   ],
   "source": [
    "user1 = np.random.choice(range(1,11),17).reshape(-1,17)\n",
    "user1"
   ]
  },
  {
   "cell_type": "code",
   "execution_count": null,
   "metadata": {},
   "outputs": [],
   "source": [
    "value = []\n",
    "for index,city in enumerate(scores.index):\n",
    "    city_old = scores.loc[city].values.reshape(-1,17)\n",
    "    score = cosine_similarity(city_old, user1)\n",
    "    value.append(score)"
   ]
  },
  {
   "cell_type": "code",
   "execution_count": null,
   "metadata": {},
   "outputs": [],
   "source": [
    "similarity = pd.Series(value, index=scores.index)"
   ]
  },
  {
   "cell_type": "code",
   "execution_count": null,
   "metadata": {},
   "outputs": [
    {
     "data": {
      "text/plain": [
       "'Manchester'"
      ]
     },
     "execution_count": 11,
     "metadata": {},
     "output_type": "execute_result"
    }
   ],
   "source": [
    "similarity.sort_values(ascending=False).astype(float).idxmax()"
   ]
  },
  {
   "cell_type": "code",
   "execution_count": null,
   "metadata": {},
   "outputs": [],
   "source": [
    "def find_similarity(column, user, number):\n",
    "    new_df = scores[column]\n",
    "    value = []\n",
    "    for index,city in enumerate(new_df.index):\n",
    "        city_old = new_df.loc[city].values.reshape(-1,number)\n",
    "        user = user.reshape(-1, number)\n",
    "        score = cosine_similarity(city_old, user)\n",
    "        value.append(score)\n",
    "    similarity = pd.Series(value, index=scores.index)\n",
    "    city_similar = similarity.sort_values(ascending=False).astype(float).idxmax()\n",
    "    message = f'Based on your preference, {city_similar} is the best recommendation'\n",
    "    return message\n"
   ]
  },
  {
   "cell_type": "code",
   "execution_count": null,
   "metadata": {},
   "outputs": [
    {
     "name": "stdout",
     "output_type": "stream",
     "text": [
      "Based on your preference, Toulouse is the best recommendation\n"
     ]
    }
   ],
   "source": [
    "column = ['Tourism Score','Housing Score', 'Food Ranking']\n",
    "number = len(column)\n",
    "user = np.random.choice(range(1,10), number)\n",
    "print(find_similarity(column, user, number))"
   ]
  },
  {
   "cell_type": "code",
   "execution_count": null,
   "metadata": {},
   "outputs": [
    {
     "name": "stdout",
     "output_type": "stream",
     "text": [
      "Bologna is the capital of Italy\n",
      "It is actually one of the least 5 cities that has pique millennial interests\n"
     ]
    }
   ],
   "source": [
    "word = 'Bologna'\n",
    "if word in scores.index:\n",
    "    country = df.loc[df['city'] == word, 'country'].iloc[0]\n",
    "    print(f'{word} is the capital of {country}')\n",
    "    if word in df['city'].head().values:\n",
    "        print('It is actually one of the top 5 cities that has pique millennial interests')\n",
    "    elif word in df['city'].head(10).values:\n",
    "        print('It is actually one of the top 10 cities that has pique millennial interests')\n",
    "    elif word in df['city'].tail(5).values:\n",
    "        print('It is actually one of the least 5 cities that has pique millennial interests')\n",
    "    \n",
    "else:\n",
    "    print(f'Which country is {word} located in ?')"
   ]
  },
  {
   "cell_type": "code",
   "execution_count": null,
   "metadata": {},
   "outputs": [
    {
     "ename": "NameError",
     "evalue": "name 'word' is not defined",
     "output_type": "error",
     "traceback": [
      "\u001b[1;31m---------------------------------------------------------------------------\u001b[0m",
      "\u001b[1;31mNameError\u001b[0m                                 Traceback (most recent call last)",
      "\u001b[1;32m~\\AppData\\Local\\Temp/ipykernel_14724/3081923182.py\u001b[0m in \u001b[0;36m<module>\u001b[1;34m\u001b[0m\n\u001b[1;32m----> 1\u001b[1;33m \u001b[1;32mif\u001b[0m \u001b[0mword\u001b[0m \u001b[1;32min\u001b[0m \u001b[0mscores\u001b[0m\u001b[1;33m.\u001b[0m\u001b[0mindex\u001b[0m\u001b[1;33m:\u001b[0m\u001b[1;33m\u001b[0m\u001b[1;33m\u001b[0m\u001b[0m\n\u001b[0m\u001b[0;32m      2\u001b[0m     \u001b[0mtitle\u001b[0m \u001b[1;33m=\u001b[0m \u001b[1;34mf'About {word}'\u001b[0m\u001b[1;33m\u001b[0m\u001b[1;33m\u001b[0m\u001b[0m\n\u001b[0;32m      3\u001b[0m     \u001b[0msubtitle\u001b[0m \u001b[1;33m=\u001b[0m \u001b[1;34m'City Ranking in terms of Business, essentials, Openness and recreation score(over 10.0)'\u001b[0m\u001b[1;33m\u001b[0m\u001b[1;33m\u001b[0m\u001b[0m\n\u001b[0;32m      4\u001b[0m     \u001b[0mprint\u001b[0m\u001b[1;33m(\u001b[0m\u001b[0mtitle\u001b[0m\u001b[1;33m)\u001b[0m\u001b[1;33m\u001b[0m\u001b[1;33m\u001b[0m\u001b[0m\n\u001b[0;32m      5\u001b[0m \u001b[1;31m#     print('\\n')\u001b[0m\u001b[1;33m\u001b[0m\u001b[1;33m\u001b[0m\u001b[0m\n",
      "\u001b[1;31mNameError\u001b[0m: name 'word' is not defined"
     ]
    }
   ],
   "source": [
    "if word in scores.index:\n",
    "    title = f'About {word}'\n",
    "    subtitle = 'City Ranking in terms of Business, essentials, Openness and recreation score(over 10.0)'\n",
    "    print(title)\n",
    "#     print('\\n')\n",
    "    print(subtitle)\n",
    "#     print('\\n')\n",
    "    for i , j in zip(list(data.loc['Berlin'].index),data.loc['Berlin']):\n",
    "        print(f'{i} == {j}')"
   ]
  },
  {
   "cell_type": "code",
   "execution_count": null,
   "metadata": {},
   "outputs": [
    {
     "data": {
      "text/html": [
       "<div>\n",
       "<style scoped>\n",
       "    .dataframe tbody tr th:only-of-type {\n",
       "        vertical-align: middle;\n",
       "    }\n",
       "\n",
       "    .dataframe tbody tr th {\n",
       "        vertical-align: top;\n",
       "    }\n",
       "\n",
       "    .dataframe thead th {\n",
       "        text-align: right;\n",
       "    }\n",
       "</style>\n",
       "<table border=\"1\" class=\"dataframe\">\n",
       "  <thead>\n",
       "    <tr style=\"text-align: right;\">\n",
       "      <th></th>\n",
       "      <th>city</th>\n",
       "      <th>country</th>\n",
       "    </tr>\n",
       "  </thead>\n",
       "  <tbody>\n",
       "    <tr>\n",
       "      <td>31</td>\n",
       "      <td>Buenos Aires</td>\n",
       "      <td>Argentina</td>\n",
       "    </tr>\n",
       "    <tr>\n",
       "      <td>98</td>\n",
       "      <td>Perth</td>\n",
       "      <td>Australia</td>\n",
       "    </tr>\n",
       "    <tr>\n",
       "      <td>93</td>\n",
       "      <td>Canberra</td>\n",
       "      <td>Australia</td>\n",
       "    </tr>\n",
       "    <tr>\n",
       "      <td>23</td>\n",
       "      <td>Sydney</td>\n",
       "      <td>Australia</td>\n",
       "    </tr>\n",
       "    <tr>\n",
       "      <td>20</td>\n",
       "      <td>Melbourne</td>\n",
       "      <td>Australia</td>\n",
       "    </tr>\n",
       "  </tbody>\n",
       "</table>\n",
       "</div>"
      ],
      "text/plain": [
       "            city    country\n",
       "31  Buenos Aires  Argentina\n",
       "98         Perth  Australia\n",
       "93      Canberra  Australia\n",
       "23        Sydney  Australia\n",
       "20     Melbourne  Australia"
      ]
     },
     "execution_count": 16,
     "metadata": {},
     "output_type": "execute_result"
    }
   ],
   "source": [
    "sort_by_country = df[[\"city\", \"country\"]].sort_values(\"country\")\n",
    "sort_by_country.head()"
   ]
  },
  {
   "cell_type": "code",
   "execution_count": null,
   "metadata": {},
   "outputs": [],
   "source": [
    "location = []\n",
    "for index, city, country in sort_by_country.itertuples():\n",
    "    new = f'{city}, {country}'\n",
    "    location.append(new)\n"
   ]
  },
  {
   "cell_type": "code",
   "execution_count": null,
   "metadata": {},
   "outputs": [
    {
     "data": {
      "text/plain": [
       "['Berlin',\n",
       " 'Montréal',\n",
       " 'London',\n",
       " 'Amsterdam',\n",
       " 'Toronto',\n",
       " 'Vancouver',\n",
       " 'Barcelona',\n",
       " 'New York City',\n",
       " 'Cologne',\n",
       " 'Manchester',\n",
       " 'Hamburg',\n",
       " 'Bristol',\n",
       " 'San Francisco',\n",
       " 'Austin',\n",
       " 'Paris',\n",
       " 'Miami',\n",
       " 'Munich',\n",
       " 'Lisbon',\n",
       " 'Glasgow',\n",
       " 'Madrid',\n",
       " 'Melbourne',\n",
       " 'Ottawa',\n",
       " 'Birmingham',\n",
       " 'Sydney',\n",
       " 'Prague',\n",
       " 'Vienna',\n",
       " 'Québec City',\n",
       " 'Auckland',\n",
       " 'Los Angeles',\n",
       " 'São Paulo',\n",
       " 'Frankfurt',\n",
       " 'Buenos Aires',\n",
       " 'Mexico City',\n",
       " 'Portland',\n",
       " 'Chicago',\n",
       " 'Nantes',\n",
       " 'Budapest',\n",
       " 'Copenhagen',\n",
       " 'Santiago de Chile',\n",
       " 'Bogotá',\n",
       " 'Valencia',\n",
       " 'Bangkok',\n",
       " 'Dublin',\n",
       " 'Lyon',\n",
       " 'Philadelphia',\n",
       " 'Helsinki',\n",
       " 'Antwerp',\n",
       " 'Porto',\n",
       " 'Beijing',\n",
       " 'Stockholm',\n",
       " 'Denver',\n",
       " 'Toulouse',\n",
       " 'Kuala Lumpur',\n",
       " 'Medellín',\n",
       " 'Rio de Janeiro',\n",
       " 'Graz',\n",
       " 'Hong Kong',\n",
       " 'Edinburgh',\n",
       " 'Guadalajara',\n",
       " 'Lille',\n",
       " 'Rotterdam',\n",
       " 'Taipei',\n",
       " 'Coventry',\n",
       " 'Moscow',\n",
       " 'Seoul',\n",
       " 'Adelaide',\n",
       " 'Brussels',\n",
       " 'Zurich',\n",
       " 'Boston',\n",
       " 'Oslo',\n",
       " 'Monterrey',\n",
       " 'Seattle',\n",
       " 'Brisbane',\n",
       " 'Washington, D.C.',\n",
       " 'The Hague',\n",
       " 'Shanghai',\n",
       " 'Utrecht',\n",
       " 'Seville',\n",
       " 'Tel Aviv',\n",
       " 'Montpellier',\n",
       " 'Tokyo',\n",
       " 'Warsaw',\n",
       " 'Bordeaux',\n",
       " 'Singapore',\n",
       " 'Istanbul',\n",
       " 'Marseille',\n",
       " 'Wellington',\n",
       " 'Christchurch',\n",
       " 'Granada',\n",
       " 'Gothenburg',\n",
       " 'Lima',\n",
       " 'Cork',\n",
       " 'Groningen',\n",
       " 'Canberra',\n",
       " 'Brno',\n",
       " 'Rome',\n",
       " 'Osaka',\n",
       " 'Bucharest',\n",
       " 'Perth',\n",
       " 'Athens',\n",
       " 'Milan',\n",
       " 'Venice',\n",
       " 'Bergen',\n",
       " 'Cape Town',\n",
       " 'Innsbruck',\n",
       " 'Bern',\n",
       " 'Jerusalem',\n",
       " 'Brugge',\n",
       " 'Geneva',\n",
       " 'Bologna']"
      ]
     },
     "execution_count": 18,
     "metadata": {},
     "output_type": "execute_result"
    }
   ],
   "source": [
    "list(scores.index)"
   ]
  },
  {
   "cell_type": "code",
   "execution_count": null,
   "metadata": {},
   "outputs": [
    {
     "name": "stdout",
     "output_type": "stream",
     "text": [
      "About Bologna\n",
      "Bologna is the capital of Italy\n",
      "It is actually one of the least 5 cities that has pique millennial interests\n",
      "City Ranking in terms of Business, essentials, Openness and recreation score(over 10.0)\n",
      "Employment Score == 4.8\n",
      "Startup Score == 9.0\n",
      "Tourism Score == 6.2\n",
      "Housing Score == 5.2\n",
      "Food Ranking == 7.2\n",
      "Transport Score == 7.1\n",
      "Health Rank == 3.9\n",
      "Internet Speed Score == 5.0\n",
      "University Score == 4.9\n",
      "Access to Contraceptive Score == 6.9\n",
      "Gender Equality Score == 7.5\n",
      "Immigration Tolerence == 8.4\n",
      "Personal Freedom and Choice == 7.8\n",
      "LGBT friendly Score == 9.7\n",
      "Nightlife Score == 10.0\n",
      "Beer Ranking == 7.0\n",
      "Festival Ranking == 8.0\n"
     ]
    }
   ],
   "source": [
    "if word in scores.index:\n",
    "    title = f'About {word}'\n",
    "    subtitle = 'City Ranking in terms of Business, essentials, Openness and recreation score(over 10.0)'\n",
    "    print(title)\n",
    "#     print('\\n')\n",
    "    country = df.loc[df['city'] == word, 'country'].iloc[0]\n",
    "    print(f'{word} is the capital of {country}')\n",
    "    if word in df['city'].head().values:\n",
    "        print('It is actually one of the top 5 cities that has pique millennial interests')\n",
    "    elif word in df['city'].head(10).values:\n",
    "        print('It is actually one of the top 10 cities that has pique millennial interests')\n",
    "    elif word in df['city'].tail(5).values:\n",
    "        print('It is actually one of the least 5 cities that has pique millennial interests')\n",
    "    print(subtitle)\n",
    "#     print('\\n')\n",
    "    \n",
    "    for i , j in zip(list(data.loc['Berlin'].index),data.loc['Berlin']):\n",
    "        print(f'{i} == {j}')"
   ]
  },
  {
   "cell_type": "code",
   "execution_count": null,
   "metadata": {},
   "outputs": [],
   "source": [
    "ranking = list(zip(list(data.loc[word].index),data.loc[word]))\n",
    "breakdown = pd.DataFrame(ranking, columns = ['Category','Score'])"
   ]
  },
  {
   "cell_type": "code",
   "execution_count": null,
   "metadata": {},
   "outputs": [
    {
     "data": {
      "text/html": [
       "<div>\n",
       "<style scoped>\n",
       "    .dataframe tbody tr th:only-of-type {\n",
       "        vertical-align: middle;\n",
       "    }\n",
       "\n",
       "    .dataframe tbody tr th {\n",
       "        vertical-align: top;\n",
       "    }\n",
       "\n",
       "    .dataframe thead th {\n",
       "        text-align: right;\n",
       "    }\n",
       "</style>\n",
       "<table border=\"1\" class=\"dataframe\">\n",
       "  <thead>\n",
       "    <tr style=\"text-align: right;\">\n",
       "      <th></th>\n",
       "      <th>Category</th>\n",
       "      <th>Score</th>\n",
       "    </tr>\n",
       "  </thead>\n",
       "  <tbody>\n",
       "    <tr>\n",
       "      <td>0</td>\n",
       "      <td>Employment Score</td>\n",
       "      <td>5.8</td>\n",
       "    </tr>\n",
       "    <tr>\n",
       "      <td>1</td>\n",
       "      <td>Startup Score</td>\n",
       "      <td>1.4</td>\n",
       "    </tr>\n",
       "    <tr>\n",
       "      <td>2</td>\n",
       "      <td>Tourism Score</td>\n",
       "      <td>3.2</td>\n",
       "    </tr>\n",
       "    <tr>\n",
       "      <td>3</td>\n",
       "      <td>Housing Score</td>\n",
       "      <td>5.1</td>\n",
       "    </tr>\n",
       "    <tr>\n",
       "      <td>4</td>\n",
       "      <td>Food Ranking</td>\n",
       "      <td>1.7</td>\n",
       "    </tr>\n",
       "    <tr>\n",
       "      <td>5</td>\n",
       "      <td>Transport Score</td>\n",
       "      <td>1.1</td>\n",
       "    </tr>\n",
       "    <tr>\n",
       "      <td>6</td>\n",
       "      <td>Health Rank</td>\n",
       "      <td>9.1</td>\n",
       "    </tr>\n",
       "    <tr>\n",
       "      <td>7</td>\n",
       "      <td>Internet Speed Score</td>\n",
       "      <td>4.6</td>\n",
       "    </tr>\n",
       "    <tr>\n",
       "      <td>8</td>\n",
       "      <td>University Score</td>\n",
       "      <td>1.0</td>\n",
       "    </tr>\n",
       "    <tr>\n",
       "      <td>9</td>\n",
       "      <td>Access to Contraceptive Score</td>\n",
       "      <td>3.4</td>\n",
       "    </tr>\n",
       "    <tr>\n",
       "      <td>10</td>\n",
       "      <td>Gender Equality Score</td>\n",
       "      <td>3.3</td>\n",
       "    </tr>\n",
       "    <tr>\n",
       "      <td>11</td>\n",
       "      <td>Immigration Tolerence</td>\n",
       "      <td>6.2</td>\n",
       "    </tr>\n",
       "    <tr>\n",
       "      <td>12</td>\n",
       "      <td>Personal Freedom and Choice</td>\n",
       "      <td>0.8</td>\n",
       "    </tr>\n",
       "    <tr>\n",
       "      <td>13</td>\n",
       "      <td>LGBT friendly Score</td>\n",
       "      <td>2.0</td>\n",
       "    </tr>\n",
       "    <tr>\n",
       "      <td>14</td>\n",
       "      <td>Nightlife Score</td>\n",
       "      <td>0.9</td>\n",
       "    </tr>\n",
       "    <tr>\n",
       "      <td>15</td>\n",
       "      <td>Beer Ranking</td>\n",
       "      <td>2.3</td>\n",
       "    </tr>\n",
       "    <tr>\n",
       "      <td>16</td>\n",
       "      <td>Festival Ranking</td>\n",
       "      <td>2.8</td>\n",
       "    </tr>\n",
       "  </tbody>\n",
       "</table>\n",
       "</div>"
      ],
      "text/plain": [
       "                         Category  Score\n",
       "0                Employment Score    5.8\n",
       "1                   Startup Score    1.4\n",
       "2                   Tourism Score    3.2\n",
       "3                   Housing Score    5.1\n",
       "4                    Food Ranking    1.7\n",
       "5                 Transport Score    1.1\n",
       "6                     Health Rank    9.1\n",
       "7            Internet Speed Score    4.6\n",
       "8                University Score    1.0\n",
       "9   Access to Contraceptive Score    3.4\n",
       "10          Gender Equality Score    3.3\n",
       "11          Immigration Tolerence    6.2\n",
       "12    Personal Freedom and Choice    0.8\n",
       "13            LGBT friendly Score    2.0\n",
       "14                Nightlife Score    0.9\n",
       "15                   Beer Ranking    2.3\n",
       "16               Festival Ranking    2.8"
      ]
     },
     "execution_count": 21,
     "metadata": {},
     "output_type": "execute_result"
    }
   ],
   "source": [
    "breakdown"
   ]
  },
  {
   "cell_type": "code",
   "execution_count": null,
   "metadata": {},
   "outputs": [
    {
     "name": "stdout",
     "output_type": "stream",
     "text": [
      "['Perth', ' Australia']\n"
     ]
    },
    {
     "data": {
      "text/html": [
       "<div>\n",
       "<style scoped>\n",
       "    .dataframe tbody tr th:only-of-type {\n",
       "        vertical-align: middle;\n",
       "    }\n",
       "\n",
       "    .dataframe tbody tr th {\n",
       "        vertical-align: top;\n",
       "    }\n",
       "\n",
       "    .dataframe thead th {\n",
       "        text-align: right;\n",
       "    }\n",
       "</style>\n",
       "<table border=\"1\" class=\"dataframe\">\n",
       "  <thead>\n",
       "    <tr style=\"text-align: right;\">\n",
       "      <th></th>\n",
       "      <th>Tourism Score</th>\n",
       "      <th>Housing Score</th>\n",
       "      <th>Food Ranking</th>\n",
       "    </tr>\n",
       "    <tr>\n",
       "      <th>city</th>\n",
       "      <th></th>\n",
       "      <th></th>\n",
       "      <th></th>\n",
       "    </tr>\n",
       "  </thead>\n",
       "  <tbody>\n",
       "    <tr>\n",
       "      <td>Berlin</td>\n",
       "      <td>6</td>\n",
       "      <td>5</td>\n",
       "      <td>7</td>\n",
       "    </tr>\n",
       "    <tr>\n",
       "      <td>Montréal</td>\n",
       "      <td>6</td>\n",
       "      <td>6</td>\n",
       "      <td>5</td>\n",
       "    </tr>\n",
       "    <tr>\n",
       "      <td>London</td>\n",
       "      <td>10</td>\n",
       "      <td>0</td>\n",
       "      <td>2</td>\n",
       "    </tr>\n",
       "    <tr>\n",
       "      <td>Amsterdam</td>\n",
       "      <td>9</td>\n",
       "      <td>1</td>\n",
       "      <td>2</td>\n",
       "    </tr>\n",
       "    <tr>\n",
       "      <td>Toronto</td>\n",
       "      <td>4</td>\n",
       "      <td>3</td>\n",
       "      <td>6</td>\n",
       "    </tr>\n",
       "  </tbody>\n",
       "</table>\n",
       "</div>"
      ],
      "text/plain": [
       "           Tourism Score  Housing Score  Food Ranking\n",
       "city                                                 \n",
       "Berlin                 6              5             7\n",
       "Montréal               6              6             5\n",
       "London                10              0             2\n",
       "Amsterdam              9              1             2\n",
       "Toronto                4              3             6"
      ]
     },
     "execution_count": 24,
     "metadata": {},
     "output_type": "execute_result"
    }
   ],
   "source": [
    "word = location[1]\n",
    "if word == 'others':\n",
    "    great = scores[column]\n",
    "else: \n",
    "    locat = word.split(',')\n",
    "    great = scores[scores.index !=  locat[0]][column]\n",
    "    print(locat)\n",
    "great.head()"
   ]
  },
  {
   "cell_type": "code",
   "execution_count": null,
   "metadata": {},
   "outputs": [],
   "source": [
    "location[0]"
   ]
  },
  {
   "cell_type": "code",
   "execution_count": null,
   "metadata": {},
   "outputs": [],
   "source": [
    "location[0].split(',')"
   ]
  },
  {
   "cell_type": "code",
   "execution_count": null,
   "metadata": {},
   "outputs": [
    {
     "data": {
      "text/plain": [
       "(110, 3)"
      ]
     },
     "execution_count": 26,
     "metadata": {},
     "output_type": "execute_result"
    }
   ],
   "source": [
    "new_df = scores[column]\n",
    "new_df.shape"
   ]
  },
  {
   "cell_type": "code",
   "execution_count": null,
   "metadata": {},
   "outputs": [
    {
     "data": {
      "text/plain": [
       "(109, 3)"
      ]
     },
     "execution_count": 25,
     "metadata": {},
     "output_type": "execute_result"
    }
   ],
   "source": [
    "great.shape"
   ]
  },
  {
   "cell_type": "code",
   "execution_count": null,
   "metadata": {},
   "outputs": [],
   "source": []
  }
 ],
 "metadata": {
  "kernelspec": {
   "display_name": "Python 3",
   "language": "python",
   "name": "python3"
  },
  "language_info": {
   "codemirror_mode": {
    "name": "ipython",
    "version": 3
   },
   "file_extension": ".py",
   "mimetype": "text/x-python",
   "name": "python",
   "nbconvert_exporter": "python",
   "pygments_lexer": "ipython3",
   "version": "3.9.7"
  }
 },
 "nbformat": 4,
 "nbformat_minor": 4
}
